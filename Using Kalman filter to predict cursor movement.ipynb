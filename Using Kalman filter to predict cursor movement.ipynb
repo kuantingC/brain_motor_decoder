{
 "cells": [
  {
   "cell_type": "markdown",
   "metadata": {
    "colab_type": "text",
    "id": "mJG2i63URb4W"
   },
   "source": [
    "## This notebook is inspired by one of the homework problem from ECE C243 by Prof. J.C. Kao at UCLA"
   ]
  },
  {
   "cell_type": "code",
   "execution_count": 1,
   "metadata": {
    "colab": {
     "autoexec": {
      "startup": false,
      "wait_interval": 0
     },
     "base_uri": "https://localhost:8080/",
     "height": 91,
     "resources": {
      "http://localhost:8080/nbextensions/google.colab/files.js": {
       "data": "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",
       "headers": [
        [
         "content-type",
         "application/javascript"
        ]
       ],
       "ok": true,
       "status": 200,
       "status_text": ""
      }
     }
    },
    "colab_type": "code",
    "executionInfo": {
     "elapsed": 42155,
     "status": "ok",
     "timestamp": 1527897977325,
     "user": {
      "displayName": "KUAN-TING Chen",
      "photoUrl": "https://lh3.googleusercontent.com/a/default-user=s128",
      "userId": "101425240346696952511"
     },
     "user_tz": 420
    },
    "id": "tU4H25gURb4a",
    "outputId": "d8e7f1ea-de29-4d0b-f7f4-a25c8d7dd967",
    "scrolled": true
   },
   "outputs": [
    {
     "data": {
      "text/html": [
       "\n",
       "     <input type=\"file\" id=\"files-4582ff0c-d962-4ce9-bec4-fc56422067d5\" name=\"files[]\" multiple disabled />\n",
       "     <output id=\"result-4582ff0c-d962-4ce9-bec4-fc56422067d5\">\n",
       "      Upload widget is only available when the cell has been executed in the\n",
       "      current browser session. Please rerun this cell to enable.\n",
       "      </output>\n",
       "      <script src=\"/nbextensions/google.colab/files.js\"></script> "
      ],
      "text/plain": [
       "<IPython.core.display.HTML object>"
      ]
     },
     "metadata": {
      "tags": []
     },
     "output_type": "display_data"
    },
    {
     "name": "stdout",
     "output_type": "stream",
     "text": [
      "Saving JR_2015-12-04_truncated2.mat to JR_2015-12-04_truncated2.mat\n",
      "User uploaded file \"JR_2015-12-04_truncated2.mat\" with length 4914863 bytes\n"
     ]
    }
   ],
   "source": [
    "# Importing the necessary packages and the data\n",
    "import numpy as np\n",
    "import matplotlib.pyplot as plt\n",
    "import scipy.special\n",
    "import scipy.io as sio\n",
    "import math\n",
    "# import nsp as nsp\n",
    "import pdb\n",
    "# Load matplotlib images inline\n",
    "%matplotlib inline\n",
    "# Reloading any code written in external .py files.\n",
    "%load_ext autoreload\n",
    "\n",
    "from google.colab import files\n",
    "\n",
    "uploaded = files.upload()\n",
    "\n",
    "for fn in uploaded.keys():\n",
    "   print('User uploaded file \"{name}\" with length {length} bytes'.format(name=fn, length=len(uploaded[fn])))\n",
    "\n",
    "   \n",
    "%autoreload 2\n",
    "data = sio.loadmat('JR_2015-12-04_truncated2.mat') # load the .mat file.\n",
    "R = data['R'][0,:]\n",
    "\n",
    "def PlotSpikeRaster(S):\n",
    "    gap = 3\n",
    "    mark = 5\n",
    "    pad = 30\n",
    "\n",
    "    numSpikeTrains = np.size(S);\n",
    "    for s in range(numSpikeTrains):\n",
    "        offset = pad + gap + s*(gap+mark)\n",
    "        train = S[s]\n",
    "        if np.size(train)!=0 :\n",
    "            train = train[:]\n",
    "            for t in train.T :\n",
    "                plt.plot([t,t], [offset, offset+mark], color=[0,0,0])\n",
    "\n",
    "    plt.xlabel('Time (ms)')\n",
    "    plt.ylim([0,offset+mark+gap+pad])\n",
    "    \n",
    "def smooth(x,window_len=11,window='hanning'):\n",
    "    \"\"\"smooth the data using a window with requested size.\n",
    "    \n",
    "    This method is based on the convolution of a scaled window with the signal.\n",
    "    The signal is prepared by introducing reflected copies of the signal \n",
    "    (with the window size) in both ends so that transient parts are minimized\n",
    "    in the begining and end part of the output signal.\n",
    "    \n",
    "    input:\n",
    "        x: the input signal \n",
    "        window_len: the dimension of the smoothing window; should be an odd integer\n",
    "        window: the type of window from 'flat', 'hanning', 'hamming', 'bartlett', 'blackman'\n",
    "            flat window will produce a moving average smoothing.\n",
    "\n",
    "    output:\n",
    "        the smoothed signal\n",
    "        \n",
    "    example:\n",
    "\n",
    "    t=linspace(-2,2,0.1)\n",
    "    x=sin(t)+randn(len(t))*0.1\n",
    "    y=smooth(x)\n",
    "    \n",
    "    see also: \n",
    "    \n",
    "    numpy.hanning, numpy.hamming, numpy.bartlett, numpy.blackman, numpy.convolve\n",
    "    scipy.signal.lfilter\n",
    " \n",
    "    TODO: the window parameter could be the window itself if an array instead of a string\n",
    "    NOTE: length(output) != length(input), to correct this: return y[(window_len/2-1):-(window_len/2)] instead of just y.\n",
    "    \"\"\"\n",
    "\n",
    "    s=np.r_[x[window_len-1:0:-1],x,x[-2:-window_len-1:-1]]\n",
    "    #print(len(s))\n",
    "    if window == 'flat': #moving average\n",
    "        w=np.ones(window_len,'d')\n",
    "    else:\n",
    "        w=eval('np.'+window+'(window_len)')\n",
    "\n",
    "    y=np.convolve(w/w.sum(),s,mode='valid')\n",
    "    return y[int(np.ceil(window_len/2-1)):int(np.ceil(-(window_len/2)))] \n",
    "\n",
    "\n",
    "\n",
    "def bin(X, binWidth,binType):\n",
    "    [dims,numSamples] = X.shape\n",
    "    if binType == 'first':\n",
    "        numBins = np.ceil(float(numSamples)/binWidth).astype(int)\n",
    "    else:\n",
    "        numBins = np.floor(float(numSamples)/binWidth).astype(int)\n",
    "    \n",
    "    binX = np.zeros((dims, numBins),dtype = list)\n",
    "    \n",
    "    for i in range(numBins):\n",
    "        binStart = i*binWidth\n",
    "        binStop  = (i+1)*binWidth\n",
    "        if binType == 'sum' :\n",
    "            binX[:,i] = np.sum(X[:, binStart : binStop].todense(), 1).T\n",
    "        elif binType == 'mean' :\n",
    "            binX[:,i] = np.mean(X[:, binStart : binStop].todense(), 1).T\n",
    "        elif binType ==  'first':\n",
    "            binX[:,i] = np.asarray(X[:,binStart].todense().T)\n",
    "        elif binType ==  'last':\n",
    "            binX[:,i] = X[:, binStop]        \n",
    "    return binX\n",
    "  \n",
    "  \n",
    " "
   ]
  },
  {
   "cell_type": "markdown",
   "metadata": {
    "colab_type": "text",
    "id": "7W9yi-X4Rb4h"
   },
   "source": [
    "Answer:array([[1.   , 0.   , 0.025, 0.   , 0.   ],\n",
    "       [0.   , 1.   , 0.   , 0.025, 0.   ],\n",
    "       [0.   , 0.   , 0.7  , 0.   , 0.   ],\n",
    "       [0.   , 0.   , 0.   , 0.7  , 0.   ],\n",
    "       [0.   , 0.   , 0.   , 0.   , 1.   ]])\n"
   ]
  },
  {
   "cell_type": "markdown",
   "metadata": {
    "colab_type": "text",
    "id": "gF77CaxNRb4h"
   },
   "source": [
    "### (b) Fit the A-matrix.\n",
    "Calculate the hand velocities in $25$ ms intervals by using a first order Euler approximation, i.e.,\n",
    "\n",
    "$$v(t) = \\frac{cursorPos[t+25] -cursorPos[t]}{25}$$\n",
    "\n",
    "Find and report the values in the $\\mathbf{A}$ matrix.\n",
    "To be clear, you should only be finding a matrix\n",
    "\\begin{eqnarray*}\n",
    "\\mathbf{A}_s = \\left[ \\begin{array}{cc} v_{xx} & v_{xy} \\\\ v_{yx} & v_{yy} \\end{array} \\right]\n",
    "\\end{eqnarray*}\n",
    "and imputing those values into an $\\mathbf{A}$ matrix that obeys physics."
   ]
  },
  {
   "cell_type": "code",
   "execution_count": 3,
   "metadata": {
    "colab": {
     "autoexec": {
      "startup": false,
      "wait_interval": 0
     },
     "base_uri": "https://localhost:8080/",
     "height": 105
    },
    "colab_type": "code",
    "executionInfo": {
     "elapsed": 5047,
     "status": "ok",
     "timestamp": 1527897984131,
     "user": {
      "displayName": "KUAN-TING Chen",
      "photoUrl": "https://lh3.googleusercontent.com/a/default-user=s128",
      "userId": "101425240346696952511"
     },
     "user_tz": 420
    },
    "id": "vdVZmpBRRb4i",
    "outputId": "4d9e7213-4b21-4ab0-8f14-d7ee2606384a"
   },
   "outputs": [
    {
     "data": {
      "text/plain": [
       "array([[ 1.        ,  0.        ,  0.025     ,  0.        ,  0.        ],\n",
       "       [ 0.        ,  1.        ,  0.        ,  0.025     ,  0.        ],\n",
       "       [ 0.        ,  0.        ,  0.77976907, -0.00741686,  0.        ],\n",
       "       [ 0.        ,  0.        ,  0.0096132 ,  0.78079831,  0.        ],\n",
       "       [ 0.        ,  0.        ,  0.        ,  0.        ,  1.        ]])"
      ]
     },
     "execution_count": 3,
     "metadata": {
      "tags": []
     },
     "output_type": "execute_result"
    }
   ],
   "source": [
    "#====================================================#\n",
    "# YOUR CODE HERE:\n",
    "#   Fit and report the 5x5 matrix A.\n",
    "#====================================================#\n",
    "train_num = 400\n",
    "X =scipy.sparse.hstack(R[0:train_num]['cursorPos'])\n",
    "X= scipy.sparse.csc_matrix(X)\n",
    "X_bin = bin(X, dt,'first')\n",
    "X_bin = np.matrix(np.diff(X_bin[0:2,:])/dt*1000, dtype = 'float')\n",
    "As = np.matmul(X_bin[:,1:], scipy.linalg.pinv(X_bin[:,0:-1]))\n",
    "As\n",
    "\n",
    "v_xx = As[0,0]\n",
    "v_yy = As[1,1]\n",
    "v_xy = As[0,1]\n",
    "v_yx = As[1,0]\n",
    "dt = 25\n",
    "A = np.zeros((5,5))\n",
    "A[0,2] = dt/1000\n",
    "A[1,3] = dt/1000\n",
    "A[0,0] = 1\n",
    "A[1,1] = 1\n",
    "A[2,2] = v_xx\n",
    "A[2,3] = v_xy\n",
    "A[3,2] = v_yx\n",
    "A[3,3] = v_yy\n",
    "A[4,4] = 1\n",
    "A\n",
    "\n",
    "#====================================================#\n",
    "# END YOUR CODE\n",
    "#====================================================#  "
   ]
  },
  {
   "cell_type": "code",
   "execution_count": 4,
   "metadata": {
    "colab": {
     "autoexec": {
      "startup": false,
      "wait_interval": 0
     },
     "base_uri": "https://localhost:8080/",
     "height": 52
    },
    "colab_type": "code",
    "executionInfo": {
     "elapsed": 9653,
     "status": "ok",
     "timestamp": 1527897994618,
     "user": {
      "displayName": "KUAN-TING Chen",
      "photoUrl": "https://lh3.googleusercontent.com/a/default-user=s128",
      "userId": "101425240346696952511"
     },
     "user_tz": 420
    },
    "id": "sDcVSLfERb4n",
    "outputId": "169c38f5-ef66-476f-8d58-b4744a909fee"
   },
   "outputs": [
    {
     "data": {
      "text/plain": [
       "array([ 0.00000000e+00,  0.00000000e+00, -4.49938145e-03,  1.70531105e-03,\n",
       "        4.01926529e+01])"
      ]
     },
     "execution_count": 4,
     "metadata": {
      "tags": []
     },
     "output_type": "execute_result"
    }
   ],
   "source": [
    "## Part c\n",
    "#====================================================#\n",
    "# YOUR CODE HERE:\n",
    "#   Fit the C matrix, and report np.sum(C, 0)\n",
    "#====================================================#\n",
    "train_num = 400\n",
    "Y =scipy.sparse.hstack(R[0:train_num]['spikeRaster'])\n",
    "X =scipy.sparse.hstack(R[0:train_num]['cursorPos'])\n",
    "X= scipy.sparse.csc_matrix(X)\n",
    "Y_bin = bin(Y, dt,'sum').astype('float')\n",
    "X_bin = bin(X, dt,'first').astype('float')\n",
    "X_bin = np.matrix(np.diff(X_bin[0:2,:])/dt*1000, dtype = 'float')\n",
    "X_bin = np.vstack((X_bin,np.ones(np.size(X_bin,1))))\n",
    "\n",
    "Cs = np.matmul(Y_bin, scipy.linalg.pinv(X_bin))\n",
    "C = np.hstack([np.zeros((np.size(Cs,0),2)), Cs])\n",
    "np.sum(C,0)\n",
    "#====================================================#\n",
    "# END YOUR CODE\n",
    "#====================================================#  "
   ]
  },
  {
   "cell_type": "markdown",
   "metadata": {
    "colab_type": "text",
    "id": "iYA8tZhQRb4r"
   },
   "source": [
    "*Answer*: Above"
   ]
  },
  {
   "cell_type": "markdown",
   "metadata": {
    "colab_type": "text",
    "id": "AMCPQiSwRb4s"
   },
   "source": [
    "### (d)Fit the W matrix.\n",
    "\n",
    "Find the $\\mathbf{W}$ using the $\\mathbf{A}$ matrix calculated in part (b).\n",
    "We will only want to calculate an uncertainty over the velocity, and not on the positions.\n",
    "Thus, you will perform the covariance calculation over the velocities, resulting in a $2 \\times 2$ matrix $\\mathbf{W}_s$.  \n",
    "You will insert these values into the correct location in the $\\mathbf{W}$ matrix, which is everywhere else $0$.\n",
    "Report the $\\mathbf{W}$ matrix."
   ]
  },
  {
   "cell_type": "code",
   "execution_count": 5,
   "metadata": {
    "colab": {
     "autoexec": {
      "startup": false,
      "wait_interval": 0
     },
     "base_uri": "https://localhost:8080/",
     "height": 193
    },
    "colab_type": "code",
    "executionInfo": {
     "elapsed": 5425,
     "status": "ok",
     "timestamp": 1527898000104,
     "user": {
      "displayName": "KUAN-TING Chen",
      "photoUrl": "https://lh3.googleusercontent.com/a/default-user=s128",
      "userId": "101425240346696952511"
     },
     "user_tz": 420
    },
    "id": "tMT5pfJ1Rb4s",
    "outputId": "4203a067-42cf-49b2-afb7-4deb2ce3bb41"
   },
   "outputs": [
    {
     "data": {
      "text/plain": [
       "array([[    0.        ,     0.        ,     0.        ,     0.        ,\n",
       "            0.        ],\n",
       "       [    0.        ,     0.        ,     0.        ,     0.        ,\n",
       "            0.        ],\n",
       "       [    0.        ,     0.        , 11512.16163325,  -793.98967029,\n",
       "            0.        ],\n",
       "       [    0.        ,     0.        ,  -793.98967029, 12124.73889882,\n",
       "            0.        ],\n",
       "       [    0.        ,     0.        ,     0.        ,     0.        ,\n",
       "            0.        ]])"
      ]
     },
     "execution_count": 5,
     "metadata": {
      "tags": []
     },
     "output_type": "execute_result"
    }
   ],
   "source": [
    "## Part d\n",
    "#====================================================#\n",
    "# YOUR CODE HERE:\n",
    "#   Fit and report the W matrix.\n",
    "#====================================================#\n",
    "train_num = 400\n",
    "X =scipy.sparse.hstack(R[0:train_num]['cursorPos'])\n",
    "X= scipy.sparse.csc_matrix(X)\n",
    "X_bin = bin(X, dt,'first')\n",
    "X_bin = np.matrix(np.diff(X_bin[0:2,:])/dt*1000, dtype = 'float')\n",
    "As = np.matmul(X_bin[:,2:], scipy.linalg.pinv(X_bin[:,1:-1]))\n",
    "K = X_bin.shape[1]\n",
    "temp = X_bin[:,1:]-np.matmul(As,X_bin[:,0:-1])\n",
    "Ws = 1/(K-1)*np.matmul(temp,temp.T)\n",
    "\n",
    "W = np.zeros((5,5))\n",
    "W[2,2] = Ws[0,0]\n",
    "W[2,3] = Ws[0,1]\n",
    "W[3,3] = Ws[1,1]\n",
    "W[3,2] = Ws[1,0]\n",
    "W\n",
    "#====================================================#\n",
    "# END YOUR CODE\n",
    "#====================================================#  "
   ]
  },
  {
   "cell_type": "markdown",
   "metadata": {
    "colab_type": "text",
    "id": "PNop2hifRb4w"
   },
   "source": [
    "### (e) Fit the Q matrix.\n",
    "Find the $\\mathbf{Q}$ matrix using the $\\mathbf{C}$ matrix calculated in part (c).\n",
    "Submit a plot of Q using `plt.imshow(Q)`.\n",
    "        \n"
   ]
  },
  {
   "cell_type": "code",
   "execution_count": 6,
   "metadata": {
    "colab": {
     "autoexec": {
      "startup": false,
      "wait_interval": 0
     },
     "base_uri": "https://localhost:8080/",
     "height": 447
    },
    "colab_type": "code",
    "executionInfo": {
     "elapsed": 10010,
     "status": "ok",
     "timestamp": 1527898010692,
     "user": {
      "displayName": "KUAN-TING Chen",
      "photoUrl": "https://lh3.googleusercontent.com/a/default-user=s128",
      "userId": "101425240346696952511"
     },
     "user_tz": 420
    },
    "id": "4Nf9DNdyRb4x",
    "outputId": "98cc131e-0912-4124-a169-b6adf0c8cc67"
   },
   "outputs": [
    {
     "data": {
      "text/plain": [
       "<matplotlib.image.AxesImage at 0x7f291e5acd68>"
      ]
     },
     "execution_count": 6,
     "metadata": {
      "tags": []
     },
     "output_type": "execute_result"
    },
    {
     "data": {
      "image/png": "[encoded data removed]",
      "text/plain": [
       "<matplotlib.figure.Figure at 0x7f291f17a048>"
      ]
     },
     "metadata": {
      "tags": []
     },
     "output_type": "display_data"
    }
   ],
   "source": [
    "## Part e\n",
    "#====================================================#\n",
    "# YOUR CODE HERE:\n",
    "#   Fit the Q matrix, and visuailze it using plt.imshow(Q)\n",
    "#====================================================#\n",
    "train_num = 400\n",
    "Y =scipy.sparse.hstack(R[0:train_num]['spikeRaster'])\n",
    "X =scipy.sparse.hstack(R[0:train_num]['cursorPos'])\n",
    "X= scipy.sparse.csc_matrix(X)\n",
    "Y_bin = bin(Y, dt,'sum').astype('float')\n",
    "X_bin = bin(X, dt,'first').astype('float')\n",
    "X_bin = np.matrix(np.diff(X_bin[0:2,:])/dt*1000, dtype = 'float')\n",
    "#  add the 1 row\n",
    "X_bin = np.vstack((X_bin,np.ones(np.size(X_bin,1))))\n",
    "\n",
    "temp = Y_bin-np.matmul(Cs,X_bin)\n",
    "Q = 1/K*np.matmul(temp,temp.T)\n",
    "plt.figure(figsize=(7,7))\n",
    "plt.imshow(Q)\n",
    "#====================================================#\n",
    "# END YOUR CODE\n",
    "#====================================================#  "
   ]
  },
  {
   "cell_type": "code",
   "execution_count": 0,
   "metadata": {
    "colab": {
     "autoexec": {
      "startup": false,
      "wait_interval": 0
     }
    },
    "colab_type": "code",
    "collapsed": true,
    "id": "9Yynvmv6Rb44"
   },
   "outputs": [],
   "source": [
    "def KalmanSteadyState(A, W, C, Q):\n",
    "\n",
    "    S_p = np.zeros((5,5)) # previous state estimate cov\n",
    "    S_c = np.zeros((5,5)) # current state estimate cov\n",
    "    S_c_p = np.zeros((5,5)) # transient state estimate cov\n",
    "    M1_p = np.zeros((5,5)) # previous M1\n",
    "    M1_c = np.ones((5,5)) # current M1\n",
    "    M2_p = np.zeros((5,96)) # previous M2\n",
    "    M2_c = np.ones((5,96)) # current M2\n",
    "    tol = math.pow(10, -13)\n",
    "    count = 0\n",
    "    \n",
    "    # Stopping criterion.\n",
    "    it_d = np.hstack((M1_c.flatten() - M1_p.flatten(),  \n",
    "                      M2_c.flatten()-M2_p.flatten()))\n",
    "\n",
    "    while(np.max(np.abs(it_d)) > tol):\n",
    "        \n",
    "        #====================================================#\n",
    "        # YOUR CODE HERE:\n",
    "        #   Implement the Kalman filter recursion.\n",
    "        #====================================================#\n",
    "        dynamic_update = A@S_p@A.T + W\n",
    "        S_c_p[2:,2:] = dynamic_update[2:,2:]\n",
    "        K_k = S_c_p@C.T@np.linalg.pinv(C@S_c_p@C.T+Q)\n",
    "        measurement_update = S_c_p \\\n",
    "                            - S_c_p@C.T@np.linalg.pinv(C@S_c_p@C.T+Q)@C@S_c_p   \n",
    "        S_c[2:,2:] = measurement_update[2:,2:]\n",
    "\n",
    "        M1_c = A-K_k@C@A\n",
    "        M2_c = K_k\n",
    "\n",
    "        it_d = np.hstack((M1_c.flatten() - M1_p.flatten(),  \n",
    "                          M2_c.flatten()-M2_p.flatten()))\n",
    "\n",
    "      # update the parameters\n",
    "        S_p = S_c\n",
    "        M1_p = M1_c\n",
    "        M2_p = M2_c\n",
    "        \n",
    "        count = count + 1\n",
    "#         print(np.max(np.abs(it_d)))\n",
    "        #====================================================#\n",
    "        # END YOUR CODE\n",
    "        #====================================================#          \n",
    "        \n",
    "    S_st = S_c # steady state covariance\n",
    "    K_st = M2_c # steady state Kalman gain\n",
    "    \n",
    "    return (M1_c,M2_c,S_st,K_st)"
   ]
  },
  {
   "cell_type": "code",
   "execution_count": 8,
   "metadata": {
    "colab": {
     "autoexec": {
      "startup": false,
      "wait_interval": 0
     },
     "base_uri": "https://localhost:8080/",
     "height": 281
    },
    "colab_type": "code",
    "executionInfo": {
     "elapsed": 1125,
     "status": "ok",
     "timestamp": 1527898012589,
     "user": {
      "displayName": "KUAN-TING Chen",
      "photoUrl": "https://lh3.googleusercontent.com/a/default-user=s128",
      "userId": "101425240346696952511"
     },
     "user_tz": 420
    },
    "id": "MYPAf229Rb49",
    "outputId": "65a78615-b938-4a84-82e4-02dc2a2f137f"
   },
   "outputs": [
    {
     "name": "stdout",
     "output_type": "stream",
     "text": [
      "[[ 1.00000000e+00  0.00000000e+00  2.50000000e-02  0.00000000e+00\n",
      "   0.00000000e+00]\n",
      " [ 0.00000000e+00  1.00000000e+00  0.00000000e+00  2.50000000e-02\n",
      "   0.00000000e+00]\n",
      " [ 0.00000000e+00  0.00000000e+00  6.77629013e-01 -2.53787898e-02\n",
      "   1.23314734e+01]\n",
      " [ 0.00000000e+00  0.00000000e+00 -1.54426706e-02  6.27592684e-01\n",
      "  -5.85754563e+01]\n",
      " [ 0.00000000e+00  0.00000000e+00  0.00000000e+00  0.00000000e+00\n",
      "   1.00000000e+00]]\n",
      "[[  0.        ]\n",
      " [  0.        ]\n",
      " [-58.34287385]\n",
      " [126.7008201 ]\n",
      " [  0.        ]]\n"
     ]
    }
   ],
   "source": [
    "m1,m2,_,_ = KalmanSteadyState(A, W, C, Q)\n",
    "print(m1)\n",
    "print(np.sum(m2,1))"
   ]
  },
  {
   "cell_type": "markdown",
   "metadata": {
    "colab_type": "text",
    "id": "nPM9mW0RRb5A"
   },
   "source": [
    "### (g) Decode using the KF.\n",
    "Using the $\\mathbf{M}_1$ and $\\mathbf{M}_2$ matrix found in part (f), decode the neural activity for each trial in the testing data.\n",
    "\t\tInitialize $\\mathbf{x}_0$ on each trial to be the starting position on the trial, and a velocity of $\\mathbf{0}$.\n",
    "\t\tOn one plot, show the true hand positions.\n",
    "\t\tOn a separate plot, show the positions decoded by the Kalman filter.\n",
    "       \n"
   ]
  },
  {
   "cell_type": "code",
   "execution_count": 1,
   "metadata": {
    "colab": {
     "autoexec": {
      "startup": false,
      "wait_interval": 0
     },
     "base_uri": "https://localhost:8080/",
     "height": 481
    },
    "colab_type": "code",
    "executionInfo": {
     "elapsed": 4097,
     "status": "ok",
     "timestamp": 1527901794949,
     "user": {
      "displayName": "KUAN-TING Chen",
      "photoUrl": "https://lh3.googleusercontent.com/a/default-user=s128",
      "userId": "101425240346696952511"
     },
     "user_tz": 420
    },
    "id": "4WoheRFgRb5B",
    "outputId": "7b61c609-adcb-4c9e-ab8f-c5a4c9456ff7"
   },
   "outputs": [
    {
     "ename": "NameError",
     "evalue": "name 'np' is not defined",
     "output_type": "error",
     "traceback": [
      "\u001b[1;31m---------------------------------------------------------------------------\u001b[0m",
      "\u001b[1;31mNameError\u001b[0m                                 Traceback (most recent call last)",
      "\u001b[1;32m<ipython-input-1-d82519649be2>\u001b[0m in \u001b[0;36m<module>\u001b[1;34m\u001b[0m\n\u001b[0;32m      3\u001b[0m \u001b[0mpos_errors\u001b[0m \u001b[1;33m=\u001b[0m \u001b[1;33m[\u001b[0m\u001b[1;33m]\u001b[0m\u001b[1;33m\u001b[0m\u001b[1;33m\u001b[0m\u001b[0m\n\u001b[0;32m      4\u001b[0m \u001b[1;33m\u001b[0m\u001b[0m\n\u001b[1;32m----> 5\u001b[1;33m \u001b[0mX_bin_poss\u001b[0m \u001b[1;33m=\u001b[0m \u001b[0mnp\u001b[0m\u001b[1;33m.\u001b[0m\u001b[0mempty\u001b[0m\u001b[1;33m(\u001b[0m\u001b[1;33m(\u001b[0m\u001b[1;36m2\u001b[0m\u001b[1;33m,\u001b[0m\u001b[1;36m0\u001b[0m\u001b[1;33m)\u001b[0m\u001b[1;33m)\u001b[0m\u001b[1;33m\u001b[0m\u001b[1;33m\u001b[0m\u001b[0m\n\u001b[0m\u001b[0;32m      6\u001b[0m \u001b[0mX_bin_pos_hats\u001b[0m \u001b[1;33m=\u001b[0m \u001b[0mnp\u001b[0m\u001b[1;33m.\u001b[0m\u001b[0mempty\u001b[0m\u001b[1;33m(\u001b[0m\u001b[1;33m(\u001b[0m\u001b[1;36m2\u001b[0m\u001b[1;33m,\u001b[0m\u001b[1;36m0\u001b[0m\u001b[1;33m)\u001b[0m\u001b[1;33m)\u001b[0m\u001b[1;33m\u001b[0m\u001b[1;33m\u001b[0m\u001b[0m\n\u001b[0;32m      7\u001b[0m \u001b[1;33m\u001b[0m\u001b[0m\n",
      "\u001b[1;31mNameError\u001b[0m: name 'np' is not defined"
     ]
    }
   ],
   "source": [
    "\n",
    "train_num = 400\n",
    "test_num = 106\n",
    "pos_errors = []\n",
    "\n",
    "X_bin_poss = np.empty((2,0))\n",
    "X_bin_pos_hats = np.empty((2,0))\n",
    "\n",
    "\n",
    "for i in range(test_num):\n",
    "    X = R[train_num + i]['cursorPos']\n",
    "    X = scipy.sparse.csc_matrix(X)\n",
    "    X_bin_pos = bin(X, dt,'first')\n",
    "    num_bin = X_bin_pos.shape[1]\n",
    "    X_bin_pos = X_bin_pos[0:2,0:num_bin]\n",
    "    if X.shape[1]%dt == 0:\n",
    "      X_bin_poss = np.hstack([X_bin_poss, X_bin_pos[0:2,0:num_bin]])\n",
    "    else:\n",
    "      X_bin_poss = np.hstack([X_bin_poss, X_bin_pos[0:2,0:num_bin-1]])\n",
    "\n",
    "# prepare Y_bin\n",
    "    Y = R[train_num+i]['spikeRaster']\n",
    "    Y_bin = bin(Y, dt,'sum')\n",
    "    num_bins = Y_bin.shape[1]\n",
    "# prepare the X matrices \n",
    "    X_bin_pos_hat = np.zeros((2,num_bins+1))\n",
    "\n",
    "\n",
    "    X_bin_v_hat = np.zeros((2,num_bin+1))\n",
    "    X_large_hat = np.zeros((5,num_bin+1))\n",
    "    X_large_hat[-1,:] = np.ones((1,num_bin+1))\n",
    "    # set initial position\n",
    "    X_bin_pos_hat[:,0] = R[train_num+i]['cursorPos'][0:2,0]\n",
    "\n",
    "#   iterating the velocity and find position by integrating v   \n",
    "#   for k in range(1,num_bins):\n",
    "#     # predict velocity\n",
    "#     X_hat_k = m1@X_large_hat[:,k-1] + m2@Y_bin[:,k].astype('float')\n",
    "#     X_large_hat[2:4,k] = X_hat_k.flatten()[0,2:4]\n",
    "#     # predict position by integrate over velocity\n",
    "#     X_bin_pos_hat[:,k] = X_bin_pos_hat[:,k-1] + 0.025*np.array(X_large_hat[2:4,k-1]).flatten()\n",
    "    for k in range(1,num_bins):\n",
    "      # predict velocity\n",
    "      X_hat_k = m1@X_large_hat[:,k-1] + m2@Y_bin[:,k].astype('float')\n",
    "      X_large_hat[2:4,k] = X_hat_k.flatten()[0,2:4]\n",
    "\n",
    "      # predict position by integrate over velocity\n",
    "      X_bin_pos_hat[:,k] = X_bin_pos_hat[:,k-1] \\\n",
    "                                + 0.025*np.array(X_large_hat[2:4,k-1]).flatten()\n",
    " \n",
    "  \n",
    "    X_bin_pos_hats = np.hstack([X_bin_pos_hats, X_bin_pos_hat[:,0:num_bins]])\n",
    "    diff_trial = (X_bin_pos[:,0:num_bin-1] - X_bin_pos_hat[:,0:num_bin-1])\n",
    "    pos_errors.append(np.mean(np.sum(np.power(diff_trial,2),axis = 0)))\n",
    "\n",
    "\n",
    "f, axs = plt.subplots(1,2,figsize=(14,7))\n",
    "axs[0].plot(X_bin_poss[0,:],X_bin_poss[1,:], '.')\n",
    "axs[0].set_title('True trojectory')\n",
    "axs[0].set_xlim([-150, 150])\n",
    "axs[0].set_ylim([-150, 150])\n",
    "\n",
    "axs[1].plot(X_bin_pos_hats[0,:],X_bin_pos_hats[1,:], '.')\n",
    "axs[1].set_title('Predicted trojectory')\n",
    "# axs[1].set_xlim([-150, 150])\n",
    "# axs[1].set_ylim([-150, 150])\n",
    "print(np.mean(pos_errors))\n",
    "\n",
    "\n",
    "#====================================================#\n",
    "# END YOUR CODE\n",
    "#====================================================#  "
   ]
  },
  {
   "cell_type": "code",
   "execution_count": 11,
   "metadata": {
    "colab": {
     "autoexec": {
      "startup": false,
      "wait_interval": 0
     },
     "base_uri": "https://localhost:8080/",
     "height": 498
    },
    "colab_type": "code",
    "executionInfo": {
     "elapsed": 3512,
     "status": "ok",
     "timestamp": 1527898017569,
     "user": {
      "displayName": "KUAN-TING Chen",
      "photoUrl": "https://lh3.googleusercontent.com/a/default-user=s128",
      "userId": "101425240346696952511"
     },
     "user_tz": 420
    },
    "id": "wk3vo-r0E7ED",
    "outputId": "66ebce8c-713f-4fc9-a1a3-23e0e7960da1"
   },
   "outputs": [
    {
     "name": "stdout",
     "output_type": "stream",
     "text": [
      "5.538399813030587e-31\n"
     ]
    },
    {
     "data": {
      "text/plain": [
       "(-150, 150)"
      ]
     },
     "execution_count": 11,
     "metadata": {
      "tags": []
     },
     "output_type": "execute_result"
    },
    {
     "data": {
      "image/png": "[encoded data removed]",
      "text/plain": [
       "<matplotlib.figure.Figure at 0x7f291e7102e8>"
      ]
     },
     "metadata": {
      "tags": []
     },
     "output_type": "display_data"
    }
   ],
   "source": [
    "#====================================================#\n",
    "# YOUR CODE HERE:\n",
    "#   Decode the activity using a Kalman filter and\n",
    "#   plot the decoded positions.\n",
    "#====================================================#\n",
    "#====================================================#\n",
    "# YOUR CODE HERE:\n",
    "#   Calculate the mean-squared error between the decoded\n",
    "#   hand position and the true hand position.  Average\n",
    "#   the squared errors across time; then average the squared\n",
    "#   errors across trials.\n",
    "#====================================================#\n",
    "pass\n",
    "\n",
    "test_num = 106\n",
    "pos_errors = []\n",
    "\n",
    "X_bin_poss = np.empty((2,0))\n",
    "X_bin_pos_hats = np.empty((2,0))\n",
    "\n",
    "\n",
    "for i in range(test_num):\n",
    "  X = R[train_num + i]['cursorPos']\n",
    "  X = scipy.sparse.csc_matrix(X)\n",
    "  X_bin_pos = bin(X, dt,'first')\n",
    "  X_bin_v = np.matrix(np.diff(X_bin_pos[0:2,:])/dt*1000, dtype = 'float')\n",
    "\n",
    "  num_bin = X_bin_pos.shape[1]\n",
    "  X_bin_pos = X_bin_pos[0:2,0:num_bin]\n",
    "  if X.shape[1]%dt == 0:\n",
    "    X_bin_poss = np.hstack([X_bin_poss, X_bin_pos[0:2,0:num_bin]])\n",
    "  else:\n",
    "    X_bin_poss = np.hstack([X_bin_poss, X_bin_pos[0:2,0:num_bin-1]])\n",
    "\n",
    "# prepare Y_bin\n",
    "  Y = R[train_num+i]['spikeRaster']\n",
    "  Y_bin = bin(Y, dt,'sum')\n",
    "  num_bins = Y_bin.shape[1]\n",
    "  # prepare the X matrices \n",
    "  X_bin_pos_hat = np.zeros((2,num_bins+1))\n",
    "  X_bin_v_hat = np.zeros((2,num_bin+1))\n",
    "  X_large_hat = np.zeros((5,num_bin+1))\n",
    "  X_large_hat[-1,:] = np.ones((1,num_bin+1))\n",
    "  \n",
    "  # set initial position\n",
    "  X_bin_pos_hat[:,0] = R[train_num+i]['cursorPos'][0:2,0]\n",
    "#   iterating the velocity and find position by integrating v   \n",
    "  if X.shape[1]%dt != 0:\n",
    "    for k in range(1,num_bins):\n",
    "      # predict velocity\n",
    "      X_hat_k = m1@X_large_hat[:,k-1] + m2@Y_bin[:,k].astype('float')\n",
    "      X_large_hat[2:4,k] = X_hat_k.flatten()[0,2:4]\n",
    "\n",
    "      # predict position by integrate over velocity\n",
    "      X_bin_pos_hat[:,k] = X_bin_pos_hat[:,k-1] + 0.025*np.array(X_bin_v[:,k-1]).flatten()\n",
    "  else:\n",
    "    for k in range(0,num_bins-1):\n",
    "# predict velocity\n",
    "      X_hat_k = m1@X_large_hat[:,k-1] + m2@Y_bin[:,k].astype('float')\n",
    "      X_large_hat[2:4,k] = X_hat_k.flatten()[0,2:4]\n",
    "\n",
    "      # predict position by integrate over velocity\n",
    "      X_bin_pos_hat[:,k+1] = X_bin_pos_hat[:,k] + 0.025*np.array(X_bin_v[:,k]).flatten()\n",
    "  \n",
    "  X_bin_pos_hats = np.hstack([X_bin_pos_hats, X_bin_pos_hat[:,0:num_bin]])\n",
    "  \n",
    "  diff_trial = (X_bin_pos[:,0:num_bin-1] - X_bin_pos_hat[:,0:num_bin-1])\n",
    "  pos_errors.append(np.mean(np.sum(np.power(diff_trial,2),axis = 0))/dt)\n",
    "  \n",
    "print(np.mean(pos_errors))\n",
    "\n",
    "f, axs = plt.subplots(1,2,figsize=(14,7))\n",
    "axs[0].plot(X_bin_poss[0,:],X_bin_poss[1,:], '.')\n",
    "axs[0].set_title('True trojectory')\n",
    "axs[0].set_xlim([-150, 150])\n",
    "axs[0].set_ylim([-150, 150])\n",
    "\n",
    "axs[1].plot(X_bin_pos_hats[0,:],X_bin_pos_hats[1,:], '.')\n",
    "axs[1].set_title('Predicted trojectory')\n",
    "axs[1].set_xlim([-150, 150])\n",
    "axs[1].set_ylim([-150, 150])\n",
    "\n",
    "#====================================================#\n",
    "# END YOUR CODE\n",
    "#====================================================#  "
   ]
  },
  {
   "cell_type": "code",
   "execution_count": 0,
   "metadata": {
    "colab": {
     "autoexec": {
      "startup": false,
      "wait_interval": 0
     }
    },
    "colab_type": "code",
    "collapsed": true,
    "id": "D7ezESVWLgjZ"
   },
   "outputs": [],
   "source": []
  }
 ],
 "metadata": {
  "colab": {
   "default_view": {},
   "name": "hw6p4.ipynb",
   "provenance": [],
   "version": "0.3.2",
   "views": {}
  },
  "kernelspec": {
   "display_name": "Python 3",
   "language": "python",
   "name": "python3"
  },
  "language_info": {
   "codemirror_mode": {
    "name": "ipython",
    "version": 3
   },
   "file_extension": ".py",
   "mimetype": "text/x-python",
   "name": "python",
   "nbconvert_exporter": "python",
   "pygments_lexer": "ipython3",
   "version": "3.8.5"
  }
 },
 "nbformat": 4,
 "nbformat_minor": 1
}
